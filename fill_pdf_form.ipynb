{
 "cells": [
  {
   "cell_type": "markdown",
   "id": "badbfa1c",
   "metadata": {},
   "source": [
    "## Ausfüllen eines pdf-Formulars mit einer xls-Tabelle\n",
    "\n",
    "Zugrunde liegt eine pdf-Datei _formular_pdf_, die ausfüllbare Zellen enthält. Intern hat jede Zelle einen Namen. \n",
    "Wenn man _feldnamen_xls_ mit Zeilen ergänzt, werden diese in das ausgefüllte Formular geschrieben. Es werden so viele pdfs geschrieben wie _feldnamen_xls_ Einträge hat."
   ]
  },
  {
   "cell_type": "code",
   "execution_count": 5,
   "id": "fabde0cd",
   "metadata": {},
   "outputs": [
    {
     "name": "stdout",
     "output_type": "stream",
     "text": [
      "Datei forms_to_xls/absolventinnenfeier/Duck.pdf geschrieben.\n",
      "Datei forms_to_xls/absolventinnenfeier/Duck1.pdf geschrieben.\n",
      "Datei forms_to_xls/absolventinnenfeier/Duck2.pdf geschrieben.\n"
     ]
    }
   ],
   "source": [
    "# Hier wird ein mit den Namensfeldern ausgefülltes pdf erzeugt, sowie eine xls-Datei mit den \n",
    "# Namensfeldern als Spaltennamen.\n",
    "\n",
    "formular_pdf = \"forms_to_xls/formular-absolventinnenfeier.pdf\"\n",
    "ausgefülltes_xls = \"forms_to_xls/absolventinnenfeier2.xlsx\"\n",
    "zielordner = \"forms_to_xls/absolventinnenfeier/\" # Hier liegen die ausgefüllten pdfs\n",
    "sortierung = \"name\" # Die pdfs sind nach diesem Feld im Formular benannt\n",
    "\n",
    "from pypdf import PdfReader, PdfWriter\n",
    "import pandas as pd\n",
    "import xlsxwriter\n",
    "\n",
    "reader = PdfReader(formular_pdf)\n",
    "all_fields = reader.get_fields()    \n",
    "text_fields = reader.get_form_text_fields()\n",
    "\n",
    "df = pd.read_excel(ausgefülltes_xls)\n",
    "df.fillna(\"\",inplace=True)\n",
    "\n",
    "for index, row in df.iterrows():\n",
    "    writer = PdfWriter()\n",
    "    writer.append(reader)\n",
    "    for i in range(len(reader.pages)):\n",
    "        for field in text_fields:\n",
    "            try:\n",
    "                writer.update_page_form_field_values(writer.pages[i], {field: row[field]})\n",
    "            except:\n",
    "                print(\"Problems with field \" + field)\n",
    "        # set_need_appearances_writer\n",
    "        # write \"output\" to pypdf-output.pdf\n",
    "    filename = (zielordner + row[sortierung] + \".pdf\")\n",
    "    with open(filename, \"wb\") as output_stream:\n",
    "        writer.write(output_stream)\n",
    "    print(\"Datei \" + filename + \" geschrieben.\")"
   ]
  },
  {
   "cell_type": "code",
   "execution_count": null,
   "id": "26b044c0",
   "metadata": {},
   "outputs": [],
   "source": []
  }
 ],
 "metadata": {
  "kernelspec": {
   "display_name": "venv",
   "language": "python",
   "name": "venv"
  },
  "language_info": {
   "codemirror_mode": {
    "name": "ipython",
    "version": 3
   },
   "file_extension": ".py",
   "mimetype": "text/x-python",
   "name": "python",
   "nbconvert_exporter": "python",
   "pygments_lexer": "ipython3",
   "version": "3.8.10"
  }
 },
 "nbformat": 4,
 "nbformat_minor": 5
}
