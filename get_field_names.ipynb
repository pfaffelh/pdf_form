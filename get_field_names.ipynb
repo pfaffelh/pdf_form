{
 "cells": [
  {
   "cell_type": "markdown",
   "id": "ebd9c3f7",
   "metadata": {},
   "source": [
    "#### Einlesen eines pdf-Formulars\n",
    "\n",
    "Zugrunde liegt eine pdf-Datei _formular_pdf_, die ausfüllbare Zellen enthält. Intern hat jede Zelle einen Namen. Hier werden diese Namen werden in das Formular selbst geschrieben und unter _formular_mit_feldnamen_pdf_ abgelegt.\n",
    "Diese Namen werden als Spaltennamen in eine xls-Tabelle _feldnamen_xls_ geschrieben."
   ]
  },
  {
   "cell_type": "code",
   "execution_count": 2,
   "id": "e930ac70",
   "metadata": {},
   "outputs": [
    {
     "name": "stdout",
     "output_type": "stream",
     "text": [
      "Datei forms_to_xls/formular-absolventinnenfeier-mit-namen.pdf geschrieben.\n",
      "Datei forms_to_xls/absolventinnenfeier.xlsx geschrieben.\n"
     ]
    }
   ],
   "source": [
    "# Hier wird ein mit den Namensfeldern ausgefülltes pdf erzeugt, sowie eine xls-Datei mit den \n",
    "# Namensfeldern als Spaltennamen.\n",
    "\n",
    "formular_pdf = \"forms_to_xls/formular-absolventinnenfeier.pdf\"\n",
    "formular_mit_feldnamen_pdf = \"forms_to_xls/formular-absolventinnenfeier-mit-namen.pdf\"\n",
    "feldnamen_xls = \"forms_to_xls/absolventinnenfeier.xlsx\"\n",
    "\n",
    "from pypdf import PdfReader, PdfWriter\n",
    "import xlsxwriter \n",
    "\n",
    "reader = PdfReader(formular_pdf)\n",
    "writer = PdfWriter()\n",
    "all_fields = reader.get_fields()    \n",
    "text_fields = reader.get_form_text_fields()\n",
    "\n",
    "writer.append(reader)\n",
    "for i in range(len(reader.pages)):\n",
    "    for field in text_fields:\n",
    "        writer.update_page_form_field_values(\n",
    "            writer.pages[i], {field: field}\n",
    "        )\n",
    "# set_need_appearances_writer\n",
    "# write \"output\" to pypdf-output.pdf\n",
    "with open(formular_mit_feldnamen_pdf, \"wb\") as output_stream:\n",
    "    writer.write(output_stream)\n",
    "print(\"Datei \" + formular_mit_feldnamen_pdf + \" geschrieben.\" )\n",
    "\n",
    "workbook = xlsxwriter.Workbook(feldnamen_xls) \n",
    "worksheet = workbook.add_worksheet() \n",
    " \n",
    "row = 0\n",
    "column = 0\n",
    "worksheet.write(row, column, \"Felder\") \n",
    " \n",
    "felder = list(all_fields)\n",
    " \n",
    "# iterating through content list \n",
    "for feld in felder : \n",
    "    column += 1\n",
    "    worksheet.write(row, column, feld) \n",
    "\n",
    "worksheet.autofit() \n",
    "workbook.close()\n",
    "print(\"Datei \" + feldnamen_xls + \" geschrieben.\" )\n"
   ]
  },
  {
   "cell_type": "code",
   "execution_count": null,
   "id": "60b1c797",
   "metadata": {},
   "outputs": [],
   "source": []
  }
 ],
 "metadata": {
  "kernelspec": {
   "display_name": "Python 3 (ipykernel)",
   "language": "python",
   "name": "python3"
  },
  "language_info": {
   "codemirror_mode": {
    "name": "ipython",
    "version": 3
   },
   "file_extension": ".py",
   "mimetype": "text/x-python",
   "name": "python",
   "nbconvert_exporter": "python",
   "pygments_lexer": "ipython3",
   "version": "3.8.10"
  }
 },
 "nbformat": 4,
 "nbformat_minor": 5
}
